{
  "nbformat": 4,
  "nbformat_minor": 0,
  "metadata": {
    "colab": {
      "provenance": [],
      "authorship_tag": "ABX9TyNdjUqcMQd0xGRuBJvcDdj2",
      "include_colab_link": true
    },
    "kernelspec": {
      "name": "python3",
      "display_name": "Python 3"
    },
    "language_info": {
      "name": "python"
    }
  },
  "cells": [
    {
      "cell_type": "markdown",
      "metadata": {
        "id": "view-in-github",
        "colab_type": "text"
      },
      "source": [
        "<a href=\"https://colab.research.google.com/github/AkkashChandrra/TextTone-Tune-MP/blob/main/assignment2.ipynb\" target=\"_parent\"><img src=\"https://colab.research.google.com/assets/colab-badge.svg\" alt=\"Open In Colab\"/></a>"
      ]
    },
    {
      "cell_type": "code",
      "execution_count": null,
      "metadata": {
        "id": "DwPruKH1-t5p"
      },
      "outputs": [],
      "source": []
    },
    {
      "cell_type": "code",
      "source": [
        "import pandas as pd\n",
        "from sklearn.preprocessing import LabelEncoder\n",
        "from tensorflow import keras\n",
        "import numpy as np\n",
        "\n",
        "data = pd.read_csv('drug200.csv')\n",
        "\n",
        "X = data[['Age', 'Sex', 'BP', 'Cholesterol', 'Na_to_K']]\n",
        "y = data['Drug']\n",
        "\n",
        "le = LabelEncoder()\n",
        "for col in ['Sex', 'BP', 'Cholesterol']:\n",
        "    X[col] = le.fit_transform(X[col])\n",
        "\n",
        "y = le.fit_transform(y)\n",
        "\n",
        "model = keras.Sequential([\n",
        "    keras.layers.Dense(4, input_dim=5, activation='relu'),\n",
        "    keras.layers.Dense(2, activation='relu'),\n",
        "    keras.layers.Dense(1, activation='sigmoid')\n",
        "])\n",
        "\n",
        "model.compile(loss='binary_crossentropy', optimizer='adam', metrics=['accuracy'])\n",
        "\n",
        "\n",
        "model.fit(X, y, epochs=10)\n"
      ],
      "metadata": {
        "colab": {
          "base_uri": "https://localhost:8080/"
        },
        "id": "jiAy2Zyw-6aS",
        "outputId": "92933383-fe08-47a7-bb92-95fc5b7de73d"
      },
      "execution_count": 3,
      "outputs": [
        {
          "output_type": "stream",
          "name": "stdout",
          "text": [
            "Epoch 1/10\n"
          ]
        },
        {
          "output_type": "stream",
          "name": "stderr",
          "text": [
            "<ipython-input-3-c591d0c16a3f>:14: SettingWithCopyWarning: \n",
            "A value is trying to be set on a copy of a slice from a DataFrame.\n",
            "Try using .loc[row_indexer,col_indexer] = value instead\n",
            "\n",
            "See the caveats in the documentation: https://pandas.pydata.org/pandas-docs/stable/user_guide/indexing.html#returning-a-view-versus-a-copy\n",
            "  X[col] = le.fit_transform(X[col])\n",
            "<ipython-input-3-c591d0c16a3f>:14: SettingWithCopyWarning: \n",
            "A value is trying to be set on a copy of a slice from a DataFrame.\n",
            "Try using .loc[row_indexer,col_indexer] = value instead\n",
            "\n",
            "See the caveats in the documentation: https://pandas.pydata.org/pandas-docs/stable/user_guide/indexing.html#returning-a-view-versus-a-copy\n",
            "  X[col] = le.fit_transform(X[col])\n",
            "<ipython-input-3-c591d0c16a3f>:14: SettingWithCopyWarning: \n",
            "A value is trying to be set on a copy of a slice from a DataFrame.\n",
            "Try using .loc[row_indexer,col_indexer] = value instead\n",
            "\n",
            "See the caveats in the documentation: https://pandas.pydata.org/pandas-docs/stable/user_guide/indexing.html#returning-a-view-versus-a-copy\n",
            "  X[col] = le.fit_transform(X[col])\n"
          ]
        },
        {
          "output_type": "stream",
          "name": "stdout",
          "text": [
            "7/7 [==============================] - 1s 4ms/step - loss: 1.4345 - accuracy: 0.4550\n",
            "Epoch 2/10\n",
            "7/7 [==============================] - 0s 3ms/step - loss: 1.2985 - accuracy: 0.4550\n",
            "Epoch 3/10\n",
            "7/7 [==============================] - 0s 3ms/step - loss: 1.1806 - accuracy: 0.4550\n",
            "Epoch 4/10\n",
            "7/7 [==============================] - 0s 4ms/step - loss: 1.0743 - accuracy: 0.4650\n",
            "Epoch 5/10\n",
            "7/7 [==============================] - 0s 4ms/step - loss: 0.9765 - accuracy: 0.4650\n",
            "Epoch 6/10\n",
            "7/7 [==============================] - 0s 5ms/step - loss: 0.8864 - accuracy: 0.4700\n",
            "Epoch 7/10\n",
            "7/7 [==============================] - 0s 5ms/step - loss: 0.8218 - accuracy: 0.4750\n",
            "Epoch 8/10\n",
            "7/7 [==============================] - 0s 4ms/step - loss: 0.7679 - accuracy: 0.4800\n",
            "Epoch 9/10\n",
            "7/7 [==============================] - 0s 4ms/step - loss: 0.7247 - accuracy: 0.4800\n",
            "Epoch 10/10\n",
            "7/7 [==============================] - 0s 4ms/step - loss: 0.6921 - accuracy: 0.4700\n"
          ]
        },
        {
          "output_type": "execute_result",
          "data": {
            "text/plain": [
              "<keras.src.callbacks.History at 0x7e53f4578d60>"
            ]
          },
          "metadata": {},
          "execution_count": 3
        }
      ]
    }
  ]
}